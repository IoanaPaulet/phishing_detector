{
 "cells": [
  {
   "cell_type": "code",
   "execution_count": null,
   "id": "3ed84f34",
   "metadata": {},
   "outputs": [],
   "source": [
    "import joblib"
   ]
  },
  {
   "cell_type": "code",
   "execution_count": null,
   "id": "5e5ccb97",
   "metadata": {},
   "outputs": [],
   "source": [
    "loaded_models = joblib.dump('RandomForest/model')\n",
    "\n",
    "predictie = loaded_models.predict(X_test)"
   ]
  }
 ],
 "metadata": {
  "kernelspec": {
   "display_name": "venv",
   "language": "python",
   "name": "python3"
  },
  "language_info": {
   "name": "python",
   "version": "3.13.3"
  }
 },
 "nbformat": 4,
 "nbformat_minor": 5
}
